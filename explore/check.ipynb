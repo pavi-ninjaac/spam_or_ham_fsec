{
 "cells": [
  {
   "cell_type": "code",
   "execution_count": null,
   "metadata": {},
   "outputs": [],
   "source": [
    "import sys\n",
    "\n",
    "sys.path.insert(0, \"/home/pavithra/projects/spam_or_ham_fsec\")\n",
    "#import pandas as pd\n",
    "print(sys.path)"
   ]
  }
 ],
 "metadata": {
  "language_info": {
   "name": "python"
  }
 },
 "nbformat": 4,
 "nbformat_minor": 2
}
