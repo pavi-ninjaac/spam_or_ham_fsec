{
 "cells": [
  {
   "cell_type": "code",
   "execution_count": 11,
   "metadata": {},
   "outputs": [
    {
     "name": "stderr",
     "output_type": "stream",
     "text": [
      "2024/12/01 16:19:12 INFO mlflow.tracking.fluent: Experiment with name 'logistic_regression_example' does not exist. Creating a new experiment.\n"
     ]
    },
    {
     "name": "stderr",
     "output_type": "stream",
     "text": [
      "2024/12/01 16:19:14 WARNING mlflow.models.model: Model logged without a signature and input example. Please set `input_example` parameter when logging the model to auto infer the model signature.\n",
      "2024/12/01 16:19:14 INFO mlflow.tracking._tracking_service.client: 🏃 View run gregarious-cub-334 at: http://172.23.0.9:5000/#/experiments/857047470525826638/runs/d4edf4a92d9748759147b127c53b8b66.\n",
      "2024/12/01 16:19:14 INFO mlflow.tracking._tracking_service.client: 🧪 View experiment at: http://172.23.0.9:5000/#/experiments/857047470525826638.\n"
     ]
    },
    {
     "name": "stdout",
     "output_type": "stream",
     "text": [
      "Run ID: d4edf4a92d9748759147b127c53b8b66\n",
      "Accuracy: 1.0000, Precision: 1.0000, Recall: 1.0000, F1 Score: 1.0000\n"
     ]
    }
   ],
   "source": [
    "import mlflow\n",
    "import mlflow.sklearn\n",
    "from sklearn.model_selection import train_test_split\n",
    "from sklearn.linear_model import LogisticRegression\n",
    "from sklearn.metrics import accuracy_score, precision_score, recall_score, f1_score\n",
    "from sklearn.datasets import load_iris\n",
    "\n",
    "data = load_iris()\n",
    "X = data.data\n",
    "y = data.target\n",
    "X, y = X[y != 2], y[y != 2]\n",
    "X_train, X_test, y_train, y_test = train_test_split(X, y, test_size=0.2, random_state=42)\n",
    "mlflow.set_tracking_uri(\"http://172.23.0.9:5000\")\n",
    "\n",
    "experiment_name = \"logistic_regression_example\"\n",
    "mlflow.set_experiment(experiment_name)\n",
    "\n",
    "# Start MLflow logging\n",
    "with mlflow.start_run():\n",
    "    penalty = \"l2\"\n",
    "    C = 1.0\n",
    "    mlflow.log_param(\"penalty\", penalty)\n",
    "    mlflow.log_param(\"C\", C)\n",
    "\n",
    "    model = LogisticRegression(penalty=penalty, C=C, random_state=42)\n",
    "    model.fit(X_train, y_train)\n",
    "\n",
    "    y_pred = model.predict(X_test)\n",
    "\n",
    "    accuracy = accuracy_score(y_test, y_pred)\n",
    "    precision = precision_score(y_test, y_pred)\n",
    "    recall = recall_score(y_test, y_pred)\n",
    "    f1 = f1_score(y_test, y_pred)\n",
    "\n",
    "    mlflow.log_metric(\"accuracy\", accuracy)\n",
    "    mlflow.log_metric(\"precision\", precision)\n",
    "    mlflow.log_metric(\"recall\", recall)\n",
    "    mlflow.log_metric(\"f1_score\", f1)\n",
    "\n",
    "    mlflow.sklearn.log_model(model, artifact_path=\"logistic_regression_model\")\n",
    "\n",
    "    print(f\"Run ID: {mlflow.active_run().info.run_id}\")\n",
    "    print(f\"Accuracy: {accuracy:.4f}, Precision: {precision:.4f}, Recall: {recall:.4f}, F1 Score: {f1:.4f}\")\n"
   ]
  },
  {
   "cell_type": "code",
   "execution_count": null,
   "metadata": {},
   "outputs": [],
   "source": []
  }
 ],
 "metadata": {
  "kernelspec": {
   "display_name": "Python 3",
   "language": "python",
   "name": "python3"
  },
  "language_info": {
   "codemirror_mode": {
    "name": "ipython",
    "version": 3
   },
   "file_extension": ".py",
   "mimetype": "text/x-python",
   "name": "python",
   "nbconvert_exporter": "python",
   "pygments_lexer": "ipython3",
   "version": "3.8.10"
  }
 },
 "nbformat": 4,
 "nbformat_minor": 2
}
