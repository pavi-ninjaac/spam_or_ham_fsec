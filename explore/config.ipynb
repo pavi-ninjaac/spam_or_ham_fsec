{
 "cells": [
  {
   "cell_type": "code",
   "execution_count": 30,
   "metadata": {},
   "outputs": [],
   "source": [
    "\"\"\"\n",
    "module containing the config related methods.\n",
    "\"\"\"\n",
    "\"\"\"\n",
    "This file contains the methods to parsh the config files and read it.\n",
    "\"\"\"\n",
    "\n",
    "import os\n",
    "from configparser import ConfigParser\n",
    "\n",
    "\n",
    "\n",
    "class ConfigParserHelper:\n",
    "    \"\"\"\n",
    "    Helper class to make job easier for config parser methods.\n",
    "    \"\"\"\n",
    "    def __init__(self, file_path: str):\n",
    "        self.file_path = file_path\n",
    "        self.config = ConfigParser()\n",
    "\n",
    "    def load(self):\n",
    "        \"\"\"\n",
    "        Load the config file into the config parsher object.\n",
    "        \"\"\"\n",
    "        self.config.read(self.file_path)\n",
    "\n",
    "    def has_section(self, section: str):\n",
    "        \"\"\"\n",
    "        Check the config file has the given section or not.\n",
    "        \"\"\"\n",
    "        if section in self.config.sections():\n",
    "            return True\n",
    "        return False\n",
    "\n",
    "    def get_sections(self):\n",
    "        \"\"\"\n",
    "        Get all the sections available there.\n",
    "        \"\"\"\n",
    "        return self.config.sections()\n",
    "\n",
    "    def get_config_items(self, section_name: str):\n",
    "        \"\"\"\n",
    "        Get the parameter values under the section name.\n",
    "        \"\"\"\n",
    "        #if self.has_section(section_name):\n",
    "        return dict(self.config.items(section_name))\n",
    "        #return None\n",
    "\n",
    "\n",
    "class LogisticRegressionConfig(ConfigParserHelper):\n",
    "    \"\"\"\n",
    "    Config parser for the spark config file.\n",
    "    \"\"\"\n",
    "    FILE_PATH = os.path.join(\"/home/pavithra/projects/spam_or_ham_fsec/core/config/logistic_regression_config.cfg\")\n",
    "    def __init__(self):\n",
    "        super().__init__(LogisticRegressionConfig.FILE_PATH)\n",
    "        self.load()\n"
   ]
  },
  {
   "cell_type": "code",
   "execution_count": 31,
   "metadata": {},
   "outputs": [
    {
     "data": {
      "text/plain": [
       "True"
      ]
     },
     "execution_count": 31,
     "metadata": {},
     "output_type": "execute_result"
    }
   ],
   "source": [
    "LogisticRegressionConfig().has_section(\"param\")"
   ]
  },
  {
   "cell_type": "code",
   "execution_count": 32,
   "metadata": {},
   "outputs": [
    {
     "data": {
      "text/plain": [
       "['param', 'database', 'settings']"
      ]
     },
     "execution_count": 32,
     "metadata": {},
     "output_type": "execute_result"
    }
   ],
   "source": [
    "LogisticRegressionConfig().get_sections()"
   ]
  },
  {
   "cell_type": "code",
   "execution_count": 43,
   "metadata": {},
   "outputs": [],
   "source": [
    "a = LogisticRegressionConfig().get_config_items(\"param\")"
   ]
  },
  {
   "cell_type": "code",
   "execution_count": 44,
   "metadata": {},
   "outputs": [
    {
     "data": {
      "text/plain": [
       "False"
      ]
     },
     "execution_count": 44,
     "metadata": {},
     "output_type": "execute_result"
    }
   ],
   "source": [
    "bool(a['a'])"
   ]
  },
  {
   "cell_type": "code",
   "execution_count": 42,
   "metadata": {},
   "outputs": [
    {
     "data": {
      "text/plain": [
       "True"
      ]
     },
     "execution_count": 42,
     "metadata": {},
     "output_type": "execute_result"
    }
   ],
   "source": [
    "bool(\" \")"
   ]
  },
  {
   "cell_type": "code",
   "execution_count": 45,
   "metadata": {},
   "outputs": [
    {
     "data": {
      "text/plain": [
       "{'c': '0.006739078892927555',\n",
       " 'max_iter': '483',\n",
       " 'solver': 'liblinear',\n",
       " 'penalty': 'l2',\n",
       " 'a': ''}"
      ]
     },
     "execution_count": 45,
     "metadata": {},
     "output_type": "execute_result"
    }
   ],
   "source": [
    "a"
   ]
  },
  {
   "cell_type": "code",
   "execution_count": 7,
   "metadata": {},
   "outputs": [],
   "source": [
    "from dataclasses import dataclass, asdict\n",
    "\n",
    "@dataclass\n",
    "class LogisticRegressionConfig:\n",
    "    \"\"\"\n",
    "    Config parser for the logistic regression config file.\n",
    "    \"\"\"\n",
    "    C: float = 0.006739078892927555\n",
    "    max_iter: int = 483\n",
    "    solver: str = \"liblinear\"\n",
    "    penalty: str = \"l2\"\n"
   ]
  },
  {
   "cell_type": "code",
   "execution_count": 8,
   "metadata": {},
   "outputs": [
    {
     "data": {
      "text/plain": [
       "{'C': 0.006739078892927555,\n",
       " 'max_iter': 483,\n",
       " 'solver': 'liblinear',\n",
       " 'penalty': 'l2'}"
      ]
     },
     "execution_count": 8,
     "metadata": {},
     "output_type": "execute_result"
    }
   ],
   "source": [
    "asdict(LogisticRegressionConfig())"
   ]
  },
  {
   "cell_type": "code",
   "execution_count": null,
   "metadata": {},
   "outputs": [],
   "source": []
  }
 ],
 "metadata": {
  "kernelspec": {
   "display_name": "Python 3",
   "language": "python",
   "name": "python3"
  },
  "language_info": {
   "codemirror_mode": {
    "name": "ipython",
    "version": 3
   },
   "file_extension": ".py",
   "mimetype": "text/x-python",
   "name": "python",
   "nbconvert_exporter": "python",
   "pygments_lexer": "ipython3",
   "version": "3.8.10"
  }
 },
 "nbformat": 4,
 "nbformat_minor": 2
}
