{
 "cells": [
  {
   "cell_type": "code",
   "execution_count": 1,
   "metadata": {},
   "outputs": [],
   "source": [
    "import pandas as pd\n",
    "import numpy as np"
   ]
  },
  {
   "cell_type": "code",
   "execution_count": 5,
   "metadata": {},
   "outputs": [
    {
     "data": {
      "text/html": [
       "<div>\n",
       "<style scoped>\n",
       "    .dataframe tbody tr th:only-of-type {\n",
       "        vertical-align: middle;\n",
       "    }\n",
       "\n",
       "    .dataframe tbody tr th {\n",
       "        vertical-align: top;\n",
       "    }\n",
       "\n",
       "    .dataframe thead th {\n",
       "        text-align: right;\n",
       "    }\n",
       "</style>\n",
       "<table border=\"1\" class=\"dataframe\">\n",
       "  <thead>\n",
       "    <tr style=\"text-align: right;\">\n",
       "      <th></th>\n",
       "      <th>0</th>\n",
       "      <th>1</th>\n",
       "      <th>2</th>\n",
       "      <th>3</th>\n",
       "      <th>4</th>\n",
       "      <th>5</th>\n",
       "      <th>6</th>\n",
       "      <th>7</th>\n",
       "      <th>8</th>\n",
       "      <th>9</th>\n",
       "      <th>...</th>\n",
       "      <th>9990</th>\n",
       "      <th>9991</th>\n",
       "      <th>9992</th>\n",
       "      <th>9993</th>\n",
       "      <th>9994</th>\n",
       "      <th>9995</th>\n",
       "      <th>9996</th>\n",
       "      <th>9997</th>\n",
       "      <th>9998</th>\n",
       "      <th>9999</th>\n",
       "    </tr>\n",
       "  </thead>\n",
       "  <tbody>\n",
       "    <tr>\n",
       "      <th>0</th>\n",
       "      <td>304.361</td>\n",
       "      <td>-436.590</td>\n",
       "      <td>-33854.769</td>\n",
       "      <td>-96571.569</td>\n",
       "      <td>-15086.947</td>\n",
       "      <td>-794.409</td>\n",
       "      <td>-442.859</td>\n",
       "      <td>304.248</td>\n",
       "      <td>-202.411</td>\n",
       "      <td>-506.852</td>\n",
       "      <td>...</td>\n",
       "      <td>95.294</td>\n",
       "      <td>-3.936</td>\n",
       "      <td>-251.812</td>\n",
       "      <td>256.429</td>\n",
       "      <td>-473.661</td>\n",
       "      <td>-1398.604</td>\n",
       "      <td>42.638</td>\n",
       "      <td>771.185</td>\n",
       "      <td>-191.123</td>\n",
       "      <td>1356.137</td>\n",
       "    </tr>\n",
       "    <tr>\n",
       "      <th>1</th>\n",
       "      <td>54.047</td>\n",
       "      <td>90.087</td>\n",
       "      <td>-154.747</td>\n",
       "      <td>-4116.486</td>\n",
       "      <td>38365.133</td>\n",
       "      <td>-589.309</td>\n",
       "      <td>1115.367</td>\n",
       "      <td>274.199</td>\n",
       "      <td>814.953</td>\n",
       "      <td>167.272</td>\n",
       "      <td>...</td>\n",
       "      <td>-176.341</td>\n",
       "      <td>-426.238</td>\n",
       "      <td>-542.428</td>\n",
       "      <td>99.147</td>\n",
       "      <td>-102.309</td>\n",
       "      <td>-277.948</td>\n",
       "      <td>-98.859</td>\n",
       "      <td>-1163.779</td>\n",
       "      <td>265.231</td>\n",
       "      <td>-992.056</td>\n",
       "    </tr>\n",
       "    <tr>\n",
       "      <th>2</th>\n",
       "      <td>272.168</td>\n",
       "      <td>-201.736</td>\n",
       "      <td>4212.592</td>\n",
       "      <td>-9123.655</td>\n",
       "      <td>-35422.458</td>\n",
       "      <td>-1029.249</td>\n",
       "      <td>-506.290</td>\n",
       "      <td>-476.856</td>\n",
       "      <td>-570.731</td>\n",
       "      <td>-161.288</td>\n",
       "      <td>...</td>\n",
       "      <td>321.426</td>\n",
       "      <td>-376.033</td>\n",
       "      <td>142.834</td>\n",
       "      <td>920.958</td>\n",
       "      <td>-122.525</td>\n",
       "      <td>-174.304</td>\n",
       "      <td>-137.612</td>\n",
       "      <td>-1571.473</td>\n",
       "      <td>678.323</td>\n",
       "      <td>1020.263</td>\n",
       "    </tr>\n",
       "    <tr>\n",
       "      <th>3</th>\n",
       "      <td>170.007</td>\n",
       "      <td>68.736</td>\n",
       "      <td>48662.079</td>\n",
       "      <td>29735.235</td>\n",
       "      <td>-13903.955</td>\n",
       "      <td>895.081</td>\n",
       "      <td>-257.748</td>\n",
       "      <td>-811.058</td>\n",
       "      <td>-691.561</td>\n",
       "      <td>-31.439</td>\n",
       "      <td>...</td>\n",
       "      <td>-409.919</td>\n",
       "      <td>400.946</td>\n",
       "      <td>313.270</td>\n",
       "      <td>123.172</td>\n",
       "      <td>1786.962</td>\n",
       "      <td>147.637</td>\n",
       "      <td>31.433</td>\n",
       "      <td>-784.719</td>\n",
       "      <td>573.433</td>\n",
       "      <td>1454.415</td>\n",
       "    </tr>\n",
       "    <tr>\n",
       "      <th>4</th>\n",
       "      <td>86.797</td>\n",
       "      <td>180.052</td>\n",
       "      <td>-49643.545</td>\n",
       "      <td>2515.406</td>\n",
       "      <td>26206.315</td>\n",
       "      <td>-407.453</td>\n",
       "      <td>-189.416</td>\n",
       "      <td>-53.664</td>\n",
       "      <td>-159.507</td>\n",
       "      <td>-42.291</td>\n",
       "      <td>...</td>\n",
       "      <td>-101.761</td>\n",
       "      <td>-424.898</td>\n",
       "      <td>37.254</td>\n",
       "      <td>-337.431</td>\n",
       "      <td>423.691</td>\n",
       "      <td>14.240</td>\n",
       "      <td>267.352</td>\n",
       "      <td>-234.560</td>\n",
       "      <td>-213.804</td>\n",
       "      <td>873.391</td>\n",
       "    </tr>\n",
       "  </tbody>\n",
       "</table>\n",
       "<p>5 rows × 10000 columns</p>\n",
       "</div>"
      ],
      "text/plain": [
       "      0        1          2          3          4         5         6     \\\n",
       "0  304.361 -436.590 -33854.769 -96571.569 -15086.947  -794.409  -442.859   \n",
       "1   54.047   90.087   -154.747  -4116.486  38365.133  -589.309  1115.367   \n",
       "2  272.168 -201.736   4212.592  -9123.655 -35422.458 -1029.249  -506.290   \n",
       "3  170.007   68.736  48662.079  29735.235 -13903.955   895.081  -257.748   \n",
       "4   86.797  180.052 -49643.545   2515.406  26206.315  -407.453  -189.416   \n",
       "\n",
       "      7        8        9     ...     9990     9991     9992     9993  \\\n",
       "0  304.248 -202.411 -506.852  ...   95.294   -3.936 -251.812  256.429   \n",
       "1  274.199  814.953  167.272  ... -176.341 -426.238 -542.428   99.147   \n",
       "2 -476.856 -570.731 -161.288  ...  321.426 -376.033  142.834  920.958   \n",
       "3 -811.058 -691.561  -31.439  ... -409.919  400.946  313.270  123.172   \n",
       "4  -53.664 -159.507  -42.291  ... -101.761 -424.898   37.254 -337.431   \n",
       "\n",
       "       9994      9995     9996      9997     9998      9999  \n",
       "0  -473.661 -1398.604   42.638   771.185 -191.123  1356.137  \n",
       "1  -102.309  -277.948  -98.859 -1163.779  265.231  -992.056  \n",
       "2  -122.525  -174.304 -137.612 -1571.473  678.323  1020.263  \n",
       "3  1786.962   147.637   31.433  -784.719  573.433  1454.415  \n",
       "4   423.691    14.240  267.352  -234.560 -213.804   873.391  \n",
       "\n",
       "[5 rows x 10000 columns]"
      ]
     },
     "execution_count": 5,
     "metadata": {},
     "output_type": "execute_result"
    }
   ],
   "source": [
    "data = pd.read_csv(\"/home/pavithra/projects/spam_or_ham_fsec/Data/train_data.csv\", header=None)\n",
    "data.head()"
   ]
  },
  {
   "cell_type": "code",
   "execution_count": 3,
   "metadata": {},
   "outputs": [
    {
     "data": {
      "text/plain": [
       "(3750, 10000)"
      ]
     },
     "execution_count": 3,
     "metadata": {},
     "output_type": "execute_result"
    }
   ],
   "source": [
    "data.shape"
   ]
  },
  {
   "cell_type": "markdown",
   "metadata": {},
   "source": [
    "# 3 | Fixed length check."
   ]
  },
  {
   "cell_type": "code",
   "execution_count": 4,
   "metadata": {},
   "outputs": [
    {
     "name": "stdout",
     "output_type": "stream",
     "text": [
      "The CSV has fixed length with 10000 columns.\n"
     ]
    }
   ],
   "source": [
    "# Get the number of columns in each row\n",
    "row_lengths = data.apply(lambda row: len(row.dropna()), axis=1)\n",
    "\n",
    "# Check if all rows have the same length\n",
    "if row_lengths.nunique() == 1:\n",
    "    print(f\"The CSV has fixed length with {row_lengths.iloc[0]} columns.\")\n",
    "else:\n",
    "    print(f\"The CSV has variable length with row lengths: {row_lengths.unique()}\")"
   ]
  },
  {
   "cell_type": "markdown",
   "metadata": {},
   "source": [
    "# 4 | Null value check"
   ]
  },
  {
   "cell_type": "code",
   "execution_count": 6,
   "metadata": {},
   "outputs": [
    {
     "data": {
      "text/html": [
       "<div>\n",
       "<style scoped>\n",
       "    .dataframe tbody tr th:only-of-type {\n",
       "        vertical-align: middle;\n",
       "    }\n",
       "\n",
       "    .dataframe tbody tr th {\n",
       "        vertical-align: top;\n",
       "    }\n",
       "\n",
       "    .dataframe thead th {\n",
       "        text-align: right;\n",
       "    }\n",
       "</style>\n",
       "<table border=\"1\" class=\"dataframe\">\n",
       "  <thead>\n",
       "    <tr style=\"text-align: right;\">\n",
       "      <th></th>\n",
       "      <th>col</th>\n",
       "      <th>null_count</th>\n",
       "    </tr>\n",
       "  </thead>\n",
       "  <tbody>\n",
       "  </tbody>\n",
       "</table>\n",
       "</div>"
      ],
      "text/plain": [
       "Empty DataFrame\n",
       "Columns: [col, null_count]\n",
       "Index: []"
      ]
     },
     "execution_count": 6,
     "metadata": {},
     "output_type": "execute_result"
    }
   ],
   "source": [
    "# Check for the null values.\n",
    "null_value_df = data.isna().sum().to_frame(name=\"null_count\").reset_index(names=\"col\")\n",
    "\n",
    "null_value_df[null_value_df[\"null_count\"] > 0]"
   ]
  },
  {
   "cell_type": "markdown",
   "metadata": {},
   "source": [
    "# 5 | imbalance target check\n"
   ]
  },
  {
   "cell_type": "code",
   "execution_count": 26,
   "metadata": {},
   "outputs": [
    {
     "data": {
      "text/html": [
       "<div>\n",
       "<style scoped>\n",
       "    .dataframe tbody tr th:only-of-type {\n",
       "        vertical-align: middle;\n",
       "    }\n",
       "\n",
       "    .dataframe tbody tr th {\n",
       "        vertical-align: top;\n",
       "    }\n",
       "\n",
       "    .dataframe thead th {\n",
       "        text-align: right;\n",
       "    }\n",
       "</style>\n",
       "<table border=\"1\" class=\"dataframe\">\n",
       "  <thead>\n",
       "    <tr style=\"text-align: right;\">\n",
       "      <th></th>\n",
       "      <th>0</th>\n",
       "    </tr>\n",
       "  </thead>\n",
       "  <tbody>\n",
       "    <tr>\n",
       "      <th>0</th>\n",
       "      <td>1</td>\n",
       "    </tr>\n",
       "    <tr>\n",
       "      <th>1</th>\n",
       "      <td>1</td>\n",
       "    </tr>\n",
       "    <tr>\n",
       "      <th>2</th>\n",
       "      <td>1</td>\n",
       "    </tr>\n",
       "    <tr>\n",
       "      <th>3</th>\n",
       "      <td>1</td>\n",
       "    </tr>\n",
       "    <tr>\n",
       "      <th>4</th>\n",
       "      <td>1</td>\n",
       "    </tr>\n",
       "  </tbody>\n",
       "</table>\n",
       "</div>"
      ],
      "text/plain": [
       "   0\n",
       "0  1\n",
       "1  1\n",
       "2  1\n",
       "3  1\n",
       "4  1"
      ]
     },
     "execution_count": 26,
     "metadata": {},
     "output_type": "execute_result"
    }
   ],
   "source": [
    "# Imbalance target in dataset check.\n",
    "\n",
    "\n",
    "# Merge the train feature and label dataset.\n",
    "target = pd.read_csv(\"/home/pavithra/projects/spam_or_ham_fsec/Data/train_labels.csv\", header=None)\n",
    "target.head()\n"
   ]
  },
  {
   "cell_type": "code",
   "execution_count": 27,
   "metadata": {},
   "outputs": [
    {
     "data": {
      "text/plain": [
       "(3750, 1)"
      ]
     },
     "execution_count": 27,
     "metadata": {},
     "output_type": "execute_result"
    }
   ],
   "source": [
    "target.shape"
   ]
  },
  {
   "cell_type": "code",
   "execution_count": 30,
   "metadata": {},
   "outputs": [
    {
     "data": {
      "text/plain": [
       "Index([0], dtype='int64')"
      ]
     },
     "execution_count": 30,
     "metadata": {},
     "output_type": "execute_result"
    }
   ],
   "source": [
    "target.columns"
   ]
  },
  {
   "cell_type": "code",
   "execution_count": 31,
   "metadata": {},
   "outputs": [
    {
     "data": {
      "text/plain": [
       "0\n",
       " 1    0.9\n",
       "-1    0.1\n",
       "Name: count, dtype: float64"
      ]
     },
     "execution_count": 31,
     "metadata": {},
     "output_type": "execute_result"
    }
   ],
   "source": [
    "target.iloc[:,0].value_counts() / target.shape[0]"
   ]
  },
  {
   "cell_type": "code",
   "execution_count": 33,
   "metadata": {},
   "outputs": [
    {
     "data": {
      "text/plain": [
       "0\n",
       " 1    90.0\n",
       "-1    10.0\n",
       "Name: count, dtype: float64"
      ]
     },
     "execution_count": 33,
     "metadata": {},
     "output_type": "execute_result"
    }
   ],
   "source": [
    "(target.iloc[:,0].value_counts() / target.shape[0]) * 100"
   ]
  },
  {
   "cell_type": "markdown",
   "metadata": {},
   "source": [
    "#### Highly imbalanced dataset :((((((("
   ]
  },
  {
   "cell_type": "code",
   "execution_count": null,
   "metadata": {},
   "outputs": [],
   "source": []
  }
 ],
 "metadata": {
  "kernelspec": {
   "display_name": "spam_ham_class",
   "language": "python",
   "name": "python3"
  },
  "language_info": {
   "codemirror_mode": {
    "name": "ipython",
    "version": 3
   },
   "file_extension": ".py",
   "mimetype": "text/x-python",
   "name": "python",
   "nbconvert_exporter": "python",
   "pygments_lexer": "ipython3",
   "version": "3.8.10"
  }
 },
 "nbformat": 4,
 "nbformat_minor": 2
}
