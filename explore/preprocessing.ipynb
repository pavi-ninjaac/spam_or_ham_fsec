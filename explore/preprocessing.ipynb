{
 "cells": [
  {
   "cell_type": "markdown",
   "metadata": {},
   "source": [
    "The flow should be:\n",
    "- split the dataset --> to avoid data leakage\n",
    "- resmapling - oversampling and undersampling\n",
    "\n",
    "resampling only on the train data to keep the test data as original one maintaining real-world distribution of data.\n",
    "- Standarise your data\n",
    "- then do PCA \n",
    "\n",
    "Why PCA after resampling, PCA is to get the features covering most variance. If you do PCA before re-sampling the princible components  are computes based on the original data. the re-sampling can affect those principle components.\n",
    "\n",
    "- Store the pre-processed data in the target folder."
   ]
  },
  {
   "cell_type": "code",
   "execution_count": 21,
   "metadata": {},
   "outputs": [],
   "source": [
    "import pandas as pd\n",
    "from sklearn.model_selection import train_test_split\n",
    "from sklearn.model_selection import GridSearchCV\n",
    "from sklearn.ensemble import RandomForestClassifier"
   ]
  },
  {
   "cell_type": "code",
   "execution_count": 9,
   "metadata": {},
   "outputs": [
    {
     "data": {
      "text/html": [
       "<div>\n",
       "<style scoped>\n",
       "    .dataframe tbody tr th:only-of-type {\n",
       "        vertical-align: middle;\n",
       "    }\n",
       "\n",
       "    .dataframe tbody tr th {\n",
       "        vertical-align: top;\n",
       "    }\n",
       "\n",
       "    .dataframe thead th {\n",
       "        text-align: right;\n",
       "    }\n",
       "</style>\n",
       "<table border=\"1\" class=\"dataframe\">\n",
       "  <thead>\n",
       "    <tr style=\"text-align: right;\">\n",
       "      <th></th>\n",
       "      <th>0</th>\n",
       "      <th>1</th>\n",
       "      <th>2</th>\n",
       "      <th>3</th>\n",
       "      <th>4</th>\n",
       "      <th>5</th>\n",
       "      <th>6</th>\n",
       "      <th>7</th>\n",
       "      <th>8</th>\n",
       "      <th>9</th>\n",
       "      <th>...</th>\n",
       "      <th>9990</th>\n",
       "      <th>9991</th>\n",
       "      <th>9992</th>\n",
       "      <th>9993</th>\n",
       "      <th>9994</th>\n",
       "      <th>9995</th>\n",
       "      <th>9996</th>\n",
       "      <th>9997</th>\n",
       "      <th>9998</th>\n",
       "      <th>9999</th>\n",
       "    </tr>\n",
       "  </thead>\n",
       "  <tbody>\n",
       "    <tr>\n",
       "      <th>0</th>\n",
       "      <td>304.361</td>\n",
       "      <td>-436.590</td>\n",
       "      <td>-33854.769</td>\n",
       "      <td>-96571.569</td>\n",
       "      <td>-15086.947</td>\n",
       "      <td>-794.409</td>\n",
       "      <td>-442.859</td>\n",
       "      <td>304.248</td>\n",
       "      <td>-202.411</td>\n",
       "      <td>-506.852</td>\n",
       "      <td>...</td>\n",
       "      <td>95.294</td>\n",
       "      <td>-3.936</td>\n",
       "      <td>-251.812</td>\n",
       "      <td>256.429</td>\n",
       "      <td>-473.661</td>\n",
       "      <td>-1398.604</td>\n",
       "      <td>42.638</td>\n",
       "      <td>771.185</td>\n",
       "      <td>-191.123</td>\n",
       "      <td>1356.137</td>\n",
       "    </tr>\n",
       "    <tr>\n",
       "      <th>1</th>\n",
       "      <td>54.047</td>\n",
       "      <td>90.087</td>\n",
       "      <td>-154.747</td>\n",
       "      <td>-4116.486</td>\n",
       "      <td>38365.133</td>\n",
       "      <td>-589.309</td>\n",
       "      <td>1115.367</td>\n",
       "      <td>274.199</td>\n",
       "      <td>814.953</td>\n",
       "      <td>167.272</td>\n",
       "      <td>...</td>\n",
       "      <td>-176.341</td>\n",
       "      <td>-426.238</td>\n",
       "      <td>-542.428</td>\n",
       "      <td>99.147</td>\n",
       "      <td>-102.309</td>\n",
       "      <td>-277.948</td>\n",
       "      <td>-98.859</td>\n",
       "      <td>-1163.779</td>\n",
       "      <td>265.231</td>\n",
       "      <td>-992.056</td>\n",
       "    </tr>\n",
       "    <tr>\n",
       "      <th>2</th>\n",
       "      <td>272.168</td>\n",
       "      <td>-201.736</td>\n",
       "      <td>4212.592</td>\n",
       "      <td>-9123.655</td>\n",
       "      <td>-35422.458</td>\n",
       "      <td>-1029.249</td>\n",
       "      <td>-506.290</td>\n",
       "      <td>-476.856</td>\n",
       "      <td>-570.731</td>\n",
       "      <td>-161.288</td>\n",
       "      <td>...</td>\n",
       "      <td>321.426</td>\n",
       "      <td>-376.033</td>\n",
       "      <td>142.834</td>\n",
       "      <td>920.958</td>\n",
       "      <td>-122.525</td>\n",
       "      <td>-174.304</td>\n",
       "      <td>-137.612</td>\n",
       "      <td>-1571.473</td>\n",
       "      <td>678.323</td>\n",
       "      <td>1020.263</td>\n",
       "    </tr>\n",
       "    <tr>\n",
       "      <th>3</th>\n",
       "      <td>170.007</td>\n",
       "      <td>68.736</td>\n",
       "      <td>48662.079</td>\n",
       "      <td>29735.235</td>\n",
       "      <td>-13903.955</td>\n",
       "      <td>895.081</td>\n",
       "      <td>-257.748</td>\n",
       "      <td>-811.058</td>\n",
       "      <td>-691.561</td>\n",
       "      <td>-31.439</td>\n",
       "      <td>...</td>\n",
       "      <td>-409.919</td>\n",
       "      <td>400.946</td>\n",
       "      <td>313.270</td>\n",
       "      <td>123.172</td>\n",
       "      <td>1786.962</td>\n",
       "      <td>147.637</td>\n",
       "      <td>31.433</td>\n",
       "      <td>-784.719</td>\n",
       "      <td>573.433</td>\n",
       "      <td>1454.415</td>\n",
       "    </tr>\n",
       "    <tr>\n",
       "      <th>4</th>\n",
       "      <td>86.797</td>\n",
       "      <td>180.052</td>\n",
       "      <td>-49643.545</td>\n",
       "      <td>2515.406</td>\n",
       "      <td>26206.315</td>\n",
       "      <td>-407.453</td>\n",
       "      <td>-189.416</td>\n",
       "      <td>-53.664</td>\n",
       "      <td>-159.507</td>\n",
       "      <td>-42.291</td>\n",
       "      <td>...</td>\n",
       "      <td>-101.761</td>\n",
       "      <td>-424.898</td>\n",
       "      <td>37.254</td>\n",
       "      <td>-337.431</td>\n",
       "      <td>423.691</td>\n",
       "      <td>14.240</td>\n",
       "      <td>267.352</td>\n",
       "      <td>-234.560</td>\n",
       "      <td>-213.804</td>\n",
       "      <td>873.391</td>\n",
       "    </tr>\n",
       "  </tbody>\n",
       "</table>\n",
       "<p>5 rows × 10000 columns</p>\n",
       "</div>"
      ],
      "text/plain": [
       "      0        1          2          3          4         5         6     \\\n",
       "0  304.361 -436.590 -33854.769 -96571.569 -15086.947  -794.409  -442.859   \n",
       "1   54.047   90.087   -154.747  -4116.486  38365.133  -589.309  1115.367   \n",
       "2  272.168 -201.736   4212.592  -9123.655 -35422.458 -1029.249  -506.290   \n",
       "3  170.007   68.736  48662.079  29735.235 -13903.955   895.081  -257.748   \n",
       "4   86.797  180.052 -49643.545   2515.406  26206.315  -407.453  -189.416   \n",
       "\n",
       "      7        8        9     ...     9990     9991     9992     9993  \\\n",
       "0  304.248 -202.411 -506.852  ...   95.294   -3.936 -251.812  256.429   \n",
       "1  274.199  814.953  167.272  ... -176.341 -426.238 -542.428   99.147   \n",
       "2 -476.856 -570.731 -161.288  ...  321.426 -376.033  142.834  920.958   \n",
       "3 -811.058 -691.561  -31.439  ... -409.919  400.946  313.270  123.172   \n",
       "4  -53.664 -159.507  -42.291  ... -101.761 -424.898   37.254 -337.431   \n",
       "\n",
       "       9994      9995     9996      9997     9998      9999  \n",
       "0  -473.661 -1398.604   42.638   771.185 -191.123  1356.137  \n",
       "1  -102.309  -277.948  -98.859 -1163.779  265.231  -992.056  \n",
       "2  -122.525  -174.304 -137.612 -1571.473  678.323  1020.263  \n",
       "3  1786.962   147.637   31.433  -784.719  573.433  1454.415  \n",
       "4   423.691    14.240  267.352  -234.560 -213.804   873.391  \n",
       "\n",
       "[5 rows x 10000 columns]"
      ]
     },
     "execution_count": 9,
     "metadata": {},
     "output_type": "execute_result"
    }
   ],
   "source": [
    "data = pd.read_csv(\"/home/pavithra/projects/spam_or_ham_fsec/Data/train_data.csv\", header=None)\n",
    "data.head()"
   ]
  },
  {
   "cell_type": "code",
   "execution_count": 10,
   "metadata": {},
   "outputs": [
    {
     "data": {
      "text/html": [
       "<div>\n",
       "<style scoped>\n",
       "    .dataframe tbody tr th:only-of-type {\n",
       "        vertical-align: middle;\n",
       "    }\n",
       "\n",
       "    .dataframe tbody tr th {\n",
       "        vertical-align: top;\n",
       "    }\n",
       "\n",
       "    .dataframe thead th {\n",
       "        text-align: right;\n",
       "    }\n",
       "</style>\n",
       "<table border=\"1\" class=\"dataframe\">\n",
       "  <thead>\n",
       "    <tr style=\"text-align: right;\">\n",
       "      <th></th>\n",
       "      <th>0</th>\n",
       "    </tr>\n",
       "  </thead>\n",
       "  <tbody>\n",
       "    <tr>\n",
       "      <th>0</th>\n",
       "      <td>1</td>\n",
       "    </tr>\n",
       "    <tr>\n",
       "      <th>1</th>\n",
       "      <td>1</td>\n",
       "    </tr>\n",
       "    <tr>\n",
       "      <th>2</th>\n",
       "      <td>1</td>\n",
       "    </tr>\n",
       "    <tr>\n",
       "      <th>3</th>\n",
       "      <td>1</td>\n",
       "    </tr>\n",
       "    <tr>\n",
       "      <th>4</th>\n",
       "      <td>1</td>\n",
       "    </tr>\n",
       "  </tbody>\n",
       "</table>\n",
       "</div>"
      ],
      "text/plain": [
       "   0\n",
       "0  1\n",
       "1  1\n",
       "2  1\n",
       "3  1\n",
       "4  1"
      ]
     },
     "execution_count": 10,
     "metadata": {},
     "output_type": "execute_result"
    }
   ],
   "source": [
    "target = pd.read_csv(\"/home/pavithra/projects/spam_or_ham_fsec/Data/train_labels.csv\", header=None)\n",
    "target.head()"
   ]
  },
  {
   "cell_type": "code",
   "execution_count": 11,
   "metadata": {},
   "outputs": [
    {
     "data": {
      "text/plain": [
       "(3750, 1)"
      ]
     },
     "execution_count": 11,
     "metadata": {},
     "output_type": "execute_result"
    }
   ],
   "source": [
    "target.shape"
   ]
  },
  {
   "cell_type": "code",
   "execution_count": 13,
   "metadata": {},
   "outputs": [],
   "source": [
    "# split the dataset.\n",
    "X_train, X_test, y_train, y_test = train_test_split(data, target, test_size=0.1, random_state=42, stratify=target)\n",
    "# stratify=target --> makes sure to keep the same class distribution in the train and test target values.\n"
   ]
  },
  {
   "cell_type": "code",
   "execution_count": 16,
   "metadata": {},
   "outputs": [
    {
     "name": "stdout",
     "output_type": "stream",
     "text": [
      "the shape of X-train (3375, 10000)\n",
      "the shape of X-train (375, 10000)\n"
     ]
    }
   ],
   "source": [
    "print(\"the shape of X-train\", X_train.shape)\n",
    "print(\"the shape of X_test\", X_test.shape)"
   ]
  },
  {
   "cell_type": "code",
   "execution_count": 17,
   "metadata": {},
   "outputs": [
    {
     "data": {
      "text/plain": [
       "0\n",
       " 1    89.866667\n",
       "-1    10.133333\n",
       "Name: count, dtype: float64"
      ]
     },
     "execution_count": 17,
     "metadata": {},
     "output_type": "execute_result"
    }
   ],
   "source": [
    "# Just check the class distribution in the target data.\n",
    "(y_test.iloc[:,0].value_counts() / y_test.shape[0]) * 100"
   ]
  },
  {
   "cell_type": "code",
   "execution_count": 19,
   "metadata": {},
   "outputs": [
    {
     "data": {
      "text/plain": [
       "0\n",
       " 1    90.014815\n",
       "-1     9.985185\n",
       "Name: count, dtype: float64"
      ]
     },
     "execution_count": 19,
     "metadata": {},
     "output_type": "execute_result"
    }
   ],
   "source": [
    "(y_train.iloc[:,0].value_counts() / y_train.shape[0]) * 100"
   ]
  },
  {
   "cell_type": "code",
   "execution_count": 23,
   "metadata": {},
   "outputs": [
    {
     "name": "stderr",
     "output_type": "stream",
     "text": [
      "/home/pavithra/.local/lib/python3.8/site-packages/sklearn/base.py:1152: DataConversionWarning: A column-vector y was passed when a 1d array was expected. Please change the shape of y to (n_samples,), for example using ravel().\n",
      "  return fit_method(estimator, *args, **kwargs)\n",
      "/home/pavithra/.local/lib/python3.8/site-packages/sklearn/base.py:1152: DataConversionWarning: A column-vector y was passed when a 1d array was expected. Please change the shape of y to (n_samples,), for example using ravel().\n",
      "  return fit_method(estimator, *args, **kwargs)\n",
      "/home/pavithra/.local/lib/python3.8/site-packages/sklearn/base.py:1152: DataConversionWarning: A column-vector y was passed when a 1d array was expected. Please change the shape of y to (n_samples,), for example using ravel().\n",
      "  return fit_method(estimator, *args, **kwargs)\n",
      "/home/pavithra/.local/lib/python3.8/site-packages/sklearn/base.py:1152: DataConversionWarning: A column-vector y was passed when a 1d array was expected. Please change the shape of y to (n_samples,), for example using ravel().\n",
      "  return fit_method(estimator, *args, **kwargs)\n",
      "/home/pavithra/.local/lib/python3.8/site-packages/sklearn/base.py:1152: DataConversionWarning: A column-vector y was passed when a 1d array was expected. Please change the shape of y to (n_samples,), for example using ravel().\n",
      "  return fit_method(estimator, *args, **kwargs)\n",
      "/home/pavithra/.local/lib/python3.8/site-packages/sklearn/base.py:1152: DataConversionWarning: A column-vector y was passed when a 1d array was expected. Please change the shape of y to (n_samples,), for example using ravel().\n",
      "  return fit_method(estimator, *args, **kwargs)\n",
      "/home/pavithra/.local/lib/python3.8/site-packages/sklearn/base.py:1152: DataConversionWarning: A column-vector y was passed when a 1d array was expected. Please change the shape of y to (n_samples,), for example using ravel().\n",
      "  return fit_method(estimator, *args, **kwargs)\n",
      "/home/pavithra/.local/lib/python3.8/site-packages/sklearn/base.py:1152: DataConversionWarning: A column-vector y was passed when a 1d array was expected. Please change the shape of y to (n_samples,), for example using ravel().\n",
      "  return fit_method(estimator, *args, **kwargs)\n",
      "/home/pavithra/.local/lib/python3.8/site-packages/sklearn/base.py:1152: DataConversionWarning: A column-vector y was passed when a 1d array was expected. Please change the shape of y to (n_samples,), for example using ravel().\n",
      "  return fit_method(estimator, *args, **kwargs)\n",
      "/home/pavithra/.local/lib/python3.8/site-packages/sklearn/base.py:1152: DataConversionWarning: A column-vector y was passed when a 1d array was expected. Please change the shape of y to (n_samples,), for example using ravel().\n",
      "  return fit_method(estimator, *args, **kwargs)\n",
      "/home/pavithra/.local/lib/python3.8/site-packages/sklearn/base.py:1152: DataConversionWarning: A column-vector y was passed when a 1d array was expected. Please change the shape of y to (n_samples,), for example using ravel().\n",
      "  return fit_method(estimator, *args, **kwargs)\n",
      "/home/pavithra/.local/lib/python3.8/site-packages/sklearn/base.py:1152: DataConversionWarning: A column-vector y was passed when a 1d array was expected. Please change the shape of y to (n_samples,), for example using ravel().\n",
      "  return fit_method(estimator, *args, **kwargs)\n",
      "/home/pavithra/.local/lib/python3.8/site-packages/sklearn/base.py:1152: DataConversionWarning: A column-vector y was passed when a 1d array was expected. Please change the shape of y to (n_samples,), for example using ravel().\n",
      "  return fit_method(estimator, *args, **kwargs)\n",
      "/home/pavithra/.local/lib/python3.8/site-packages/sklearn/base.py:1152: DataConversionWarning: A column-vector y was passed when a 1d array was expected. Please change the shape of y to (n_samples,), for example using ravel().\n",
      "  return fit_method(estimator, *args, **kwargs)\n",
      "/home/pavithra/.local/lib/python3.8/site-packages/sklearn/base.py:1152: DataConversionWarning: A column-vector y was passed when a 1d array was expected. Please change the shape of y to (n_samples,), for example using ravel().\n",
      "  return fit_method(estimator, *args, **kwargs)\n",
      "/home/pavithra/.local/lib/python3.8/site-packages/sklearn/base.py:1152: DataConversionWarning: A column-vector y was passed when a 1d array was expected. Please change the shape of y to (n_samples,), for example using ravel().\n",
      "  return fit_method(estimator, *args, **kwargs)\n",
      "/home/pavithra/.local/lib/python3.8/site-packages/sklearn/base.py:1152: DataConversionWarning: A column-vector y was passed when a 1d array was expected. Please change the shape of y to (n_samples,), for example using ravel().\n",
      "  return fit_method(estimator, *args, **kwargs)\n",
      "/home/pavithra/.local/lib/python3.8/site-packages/sklearn/base.py:1152: DataConversionWarning: A column-vector y was passed when a 1d array was expected. Please change the shape of y to (n_samples,), for example using ravel().\n",
      "  return fit_method(estimator, *args, **kwargs)\n",
      "/home/pavithra/.local/lib/python3.8/site-packages/sklearn/base.py:1152: DataConversionWarning: A column-vector y was passed when a 1d array was expected. Please change the shape of y to (n_samples,), for example using ravel().\n",
      "  return fit_method(estimator, *args, **kwargs)\n",
      "/home/pavithra/.local/lib/python3.8/site-packages/sklearn/base.py:1152: DataConversionWarning: A column-vector y was passed when a 1d array was expected. Please change the shape of y to (n_samples,), for example using ravel().\n",
      "  return fit_method(estimator, *args, **kwargs)\n",
      "/home/pavithra/.local/lib/python3.8/site-packages/sklearn/base.py:1152: DataConversionWarning: A column-vector y was passed when a 1d array was expected. Please change the shape of y to (n_samples,), for example using ravel().\n",
      "  return fit_method(estimator, *args, **kwargs)\n",
      "/home/pavithra/.local/lib/python3.8/site-packages/sklearn/base.py:1152: DataConversionWarning: A column-vector y was passed when a 1d array was expected. Please change the shape of y to (n_samples,), for example using ravel().\n",
      "  return fit_method(estimator, *args, **kwargs)\n",
      "/home/pavithra/.local/lib/python3.8/site-packages/sklearn/base.py:1152: DataConversionWarning: A column-vector y was passed when a 1d array was expected. Please change the shape of y to (n_samples,), for example using ravel().\n",
      "  return fit_method(estimator, *args, **kwargs)\n",
      "/home/pavithra/.local/lib/python3.8/site-packages/sklearn/base.py:1152: DataConversionWarning: A column-vector y was passed when a 1d array was expected. Please change the shape of y to (n_samples,), for example using ravel().\n",
      "  return fit_method(estimator, *args, **kwargs)\n",
      "/home/pavithra/.local/lib/python3.8/site-packages/sklearn/base.py:1152: DataConversionWarning: A column-vector y was passed when a 1d array was expected. Please change the shape of y to (n_samples,), for example using ravel().\n",
      "  return fit_method(estimator, *args, **kwargs)\n",
      "/home/pavithra/.local/lib/python3.8/site-packages/sklearn/base.py:1152: DataConversionWarning: A column-vector y was passed when a 1d array was expected. Please change the shape of y to (n_samples,), for example using ravel().\n",
      "  return fit_method(estimator, *args, **kwargs)\n",
      "/home/pavithra/.local/lib/python3.8/site-packages/sklearn/base.py:1152: DataConversionWarning: A column-vector y was passed when a 1d array was expected. Please change the shape of y to (n_samples,), for example using ravel().\n",
      "  return fit_method(estimator, *args, **kwargs)\n",
      "/home/pavithra/.local/lib/python3.8/site-packages/sklearn/base.py:1152: DataConversionWarning: A column-vector y was passed when a 1d array was expected. Please change the shape of y to (n_samples,), for example using ravel().\n",
      "  return fit_method(estimator, *args, **kwargs)\n"
     ]
    },
    {
     "name": "stdout",
     "output_type": "stream",
     "text": [
      "{'smote__k_neighbors': 7, 'smote__sampling_strategy': 1.0}\n"
     ]
    }
   ],
   "source": [
    "from imblearn.pipeline import Pipeline\n",
    "from imblearn.over_sampling import SMOTE\n",
    "\n",
    "smote = SMOTE()\n",
    "model = RandomForestClassifier()\n",
    "pipeline = Pipeline([('smote', smote), ('classifier', model)])\n",
    "\n",
    "param_grid = {\n",
    "    'smote__sampling_strategy': [0.5, 0.7, 1.0],\n",
    "    'smote__k_neighbors': [3, 5, 7],\n",
    "}\n",
    "\n",
    "grid = GridSearchCV(pipeline, param_grid, scoring='roc_auc', cv=3)\n",
    "grid.fit(X_train, y_train)\n",
    "print(grid.best_params_)\n",
    "\n",
    "\n",
    "# ouptut: {'smote__k_neighbors': 7, 'smote__sampling_strategy': 1.0}\n",
    "# Ran for 25m 19.5s\n",
    "\n",
    "# I would like to test with sampling_strategy as 0.70 and 1.0 in my along with my model."
   ]
  },
  {
   "cell_type": "code",
   "execution_count": 32,
   "metadata": {},
   "outputs": [],
   "source": [
    "# Oversample the minority class which is class_-1.\n",
    "from imblearn.over_sampling import SMOTE\n",
    "smote = SMOTE(sampling_strategy=0.5, k_neighbors=7, random_state=42)\n",
    "X_train_resampled, y_train_resampled = smote.fit_resample(X_train, y_train)"
   ]
  },
  {
   "cell_type": "code",
   "execution_count": 33,
   "metadata": {},
   "outputs": [
    {
     "name": "stdout",
     "output_type": "stream",
     "text": [
      "X train before re-sampling (3375, 10000)\n",
      "0\n",
      " 1    90.014815\n",
      "-1     9.985185\n",
      "Name: count, dtype: float64\n",
      "X train after re-sampling (4557, 10000)\n",
      "0\n",
      " 1    66.666667\n",
      "-1    33.333333\n",
      "Name: count, dtype: float64\n"
     ]
    }
   ],
   "source": [
    "print(\"X train before re-sampling\",X_train.shape)\n",
    "print((y_train.iloc[:,0].value_counts() / y_train.shape[0]) * 100)\n",
    "print(\"X train after re-sampling\",X_train_resampled.shape)\n",
    "print((y_train_resampled.iloc[:,0].value_counts() / y_train_resampled.shape[0]) * 100)\n"
   ]
  },
  {
   "cell_type": "code",
   "execution_count": null,
   "metadata": {},
   "outputs": [],
   "source": [
    "# X train before re-sampling (3375, 10000)\n",
    "# 0\n",
    "#  1    90.014815\n",
    "# -1     9.985185\n",
    "# Name: count, dtype: float64\n",
    "# X train after re-sampling (4557, 10000)\n",
    "# 0\n",
    "#  1    66.666667\n",
    "# -1    33.333333\n",
    "# Name: count, dtype: float64\n",
    "\n",
    "# sampling_strategy = 0.5 means the minority clas will be having half number of samples as the majority class .\n",
    "\n",
    "# see here majority has 66 and here half is 33 (minority have the 33)"
   ]
  },
  {
   "cell_type": "code",
   "execution_count": 36,
   "metadata": {},
   "outputs": [],
   "source": [
    "# Undersampling\n",
    "from imblearn.under_sampling import RandomUnderSampler\n",
    "\n",
    "# Initialize RandomUnderSampler\n",
    "undersampler = RandomUnderSampler(sampling_strategy=0.8, random_state=42)\n",
    "\n",
    "# Apply undersampling to the dataset\n",
    "X_train_resampled2, y_train_resampled2 = undersampler.fit_resample(X_train_resampled, y_train_resampled)\n"
   ]
  },
  {
   "cell_type": "code",
   "execution_count": 37,
   "metadata": {},
   "outputs": [
    {
     "name": "stdout",
     "output_type": "stream",
     "text": [
      "X train before re-sampling (3375, 10000)\n",
      "0\n",
      " 1    90.014815\n",
      "-1     9.985185\n",
      "Name: count, dtype: float64\n",
      "X train after re-sampling (4557, 10000)\n",
      "0\n",
      " 1    55.5458\n",
      "-1    44.4542\n",
      "Name: count, dtype: float64\n"
     ]
    }
   ],
   "source": [
    "print(\"X train before re-sampling\",X_train.shape)\n",
    "print((y_train.iloc[:,0].value_counts() / y_train.shape[0]) * 100)\n",
    "print(\"X train after re-sampling\",X_train_resampled.shape)\n",
    "print((y_train_resampled2.iloc[:,0].value_counts() / y_train_resampled2.shape[0]) * 100)\n"
   ]
  },
  {
   "cell_type": "code",
   "execution_count": null,
   "metadata": {},
   "outputs": [],
   "source": [
    "# I would like to check, with undersampling and without it.\n",
    "# Model 1 - oversampling 1.0\n",
    "# Model 2 - undersampling 20 % and oversampling 0.6\n",
    "# MOdel 3 - without both"
   ]
  },
  {
   "cell_type": "markdown",
   "metadata": {},
   "source": [
    "#### What are all the parameters for the pipeline, \n",
    "- oversample_sampling_strategy\n",
    "- undersample_sampling_strategy\n",
    "- do_oversample (bool)\n",
    "- do_undersample (bool)"
   ]
  },
  {
   "cell_type": "markdown",
   "metadata": {},
   "source": [
    "# Standartise"
   ]
  },
  {
   "cell_type": "code",
   "execution_count": 38,
   "metadata": {},
   "outputs": [],
   "source": [
    "from sklearn.preprocessing import StandardScaler\n",
    "scaler = StandardScaler()\n",
    "X_train_scaled = scaler.fit_transform(X_train_resampled2)\n",
    "X_test_scaled = scaler.transform(X_test)"
   ]
  },
  {
   "cell_type": "markdown",
   "metadata": {},
   "source": [
    "# PCA"
   ]
  },
  {
   "cell_type": "code",
   "execution_count": 39,
   "metadata": {},
   "outputs": [
    {
     "data": {
      "image/png": "[encoded data removed]",
      "text/plain": [
       "<Figure size 640x480 with 1 Axes>"
      ]
     },
     "metadata": {},
     "output_type": "display_data"
    }
   ],
   "source": [
    "import matplotlib.pyplot as plt\n",
    "from sklearn.decomposition import PCA\n",
    "import numpy as np\n",
    "\n",
    "pca = PCA()\n",
    "pca.fit(X_train_scaled)\n"
   ]
  },
  {
   "cell_type": "code",
   "execution_count": 43,
   "metadata": {},
   "outputs": [
    {
     "data": {
      "image/png": "[encoded data removed]",
      "text/plain": [
       "<Figure size 640x480 with 1 Axes>"
      ]
     },
     "metadata": {},
     "output_type": "display_data"
    }
   ],
   "source": [
    "\n",
    "\n",
    "# Cumulative explained variance\n",
    "cumulative_variance = np.cumsum(pca.explained_variance_ratio_)\n",
    "\n",
    "# Create the plot for cumulative explained variance\n",
    "plt.plot(range(1, len(cumulative_variance) + 1), cumulative_variance, label='Cumulative Explained Variance')\n",
    "\n",
    "# Add annotations at x = 1000 and x = 1500\n",
    "for x_value in [500, 1000, 1500]:\n",
    "    if x_value <= len(cumulative_variance):\n",
    "        plt.annotate(f'{cumulative_variance[x_value-1]:.2f}',\n",
    "                     (x_value, cumulative_variance[x_value-1]),\n",
    "                     textcoords=\"offset points\",\n",
    "                     xytext=(0, 5),\n",
    "                     ha='center',\n",
    "                     fontsize=9,\n",
    "                     color='red',\n",
    "                     weight='bold')\n",
    "\n",
    "# Adding labels and title\n",
    "plt.xlabel('Number of Components')\n",
    "plt.ylabel('Cumulative Explained Variance')\n",
    "plt.title('Explained Variance vs. Number of Components')\n",
    "plt.grid(True)\n",
    "plt.legend()\n",
    "plt.show()\n"
   ]
  },
  {
   "cell_type": "code",
   "execution_count": 44,
   "metadata": {},
   "outputs": [],
   "source": [
    "n_components = 1000\n",
    "pca = PCA(n_components=n_components)\n",
    "\n",
    "X_train_pca = pca.fit_transform(X_train_scaled)\n",
    "X_test_pca = pca.transform(X_test_scaled)"
   ]
  },
  {
   "cell_type": "code",
   "execution_count": 48,
   "metadata": {},
   "outputs": [
    {
     "name": "stdout",
     "output_type": "stream",
     "text": [
      "X train  (3417, 1000)\n",
      "X test (375, 1000)\n",
      "Y_Train (3417, 1)\n",
      "Y_test (375, 1)\n"
     ]
    }
   ],
   "source": [
    "print(\"X train \",X_train_pca.shape)\n",
    "print(\"X test\",X_test_pca.shape)\n",
    "print(\"Y_Train\", y_train_resampled2.shape)\n",
    "print(\"Y_test\", y_test.shape)\n"
   ]
  },
  {
   "cell_type": "code",
   "execution_count": null,
   "metadata": {},
   "outputs": [],
   "source": [
    "# So the n_components I wanna try is.\n",
    "# 750, 1000, 1500, 2000"
   ]
  },
  {
   "cell_type": "markdown",
   "metadata": {},
   "source": [
    "#### The parameters for pipeline\n",
    "- n_components\n"
   ]
  },
  {
   "cell_type": "markdown",
   "metadata": {},
   "source": [
    "# store it in target folder."
   ]
  },
  {
   "cell_type": "code",
   "execution_count": 56,
   "metadata": {},
   "outputs": [],
   "source": [
    "#X_train_pca.to_csv(\"data_x_train.csv\")\n",
    "np.savetxt('data/x_train.csv', X_train_pca, delimiter=',')\n",
    "np.savetxt('data/x_text.csv', X_test_pca, delimiter=',')\n",
    "np.savetxt('data/y_train.csv', y_train_resampled2, delimiter=',')\n",
    "np.savetxt('data/y_test.csv', y_test, delimiter=',')\n"
   ]
  },
  {
   "cell_type": "code",
   "execution_count": 57,
   "metadata": {},
   "outputs": [],
   "source": [
    "x_train_loaded = pd.read_csv(\"/home/pavithra/projects/spam_or_ham_fsec/explore/data/x_train.csv\", header=None)"
   ]
  },
  {
   "cell_type": "code",
   "execution_count": 58,
   "metadata": {},
   "outputs": [
    {
     "data": {
      "text/plain": [
       "array([[-2.72282186, -0.14396734,  1.46537291, ..., -0.01365814,\n",
       "        -0.50245622,  0.02747239],\n",
       "       [-0.04729483,  3.9861296 , -1.29790711, ...,  0.84493985,\n",
       "        -0.28843374, -0.74653948],\n",
       "       [-0.25571668, -0.56130625,  0.66501732, ...,  0.36435428,\n",
       "        -1.64398554, -0.44564128],\n",
       "       ...,\n",
       "       [ 1.0667806 , -0.18528842,  2.50250439, ...,  0.20280469,\n",
       "         1.00887572,  1.67742332],\n",
       "       [-1.466999  , -1.82003735, -0.64871619, ...,  3.10091915,\n",
       "         1.45194063, -1.75858396],\n",
       "       [ 0.6688073 , -1.16691985,  0.6537029 , ..., -2.30482152,\n",
       "        -2.43698714,  1.78318377]])"
      ]
     },
     "execution_count": 58,
     "metadata": {},
     "output_type": "execute_result"
    }
   ],
   "source": [
    "X_train_pca"
   ]
  },
  {
   "cell_type": "code",
   "execution_count": 59,
   "metadata": {},
   "outputs": [
    {
     "data": {
      "text/html": [
       "<div>\n",
       "<style scoped>\n",
       "    .dataframe tbody tr th:only-of-type {\n",
       "        vertical-align: middle;\n",
       "    }\n",
       "\n",
       "    .dataframe tbody tr th {\n",
       "        vertical-align: top;\n",
       "    }\n",
       "\n",
       "    .dataframe thead th {\n",
       "        text-align: right;\n",
       "    }\n",
       "</style>\n",
       "<table border=\"1\" class=\"dataframe\">\n",
       "  <thead>\n",
       "    <tr style=\"text-align: right;\">\n",
       "      <th></th>\n",
       "      <th>0</th>\n",
       "      <th>1</th>\n",
       "      <th>2</th>\n",
       "      <th>3</th>\n",
       "      <th>4</th>\n",
       "      <th>5</th>\n",
       "      <th>6</th>\n",
       "      <th>7</th>\n",
       "      <th>8</th>\n",
       "      <th>9</th>\n",
       "      <th>...</th>\n",
       "      <th>990</th>\n",
       "      <th>991</th>\n",
       "      <th>992</th>\n",
       "      <th>993</th>\n",
       "      <th>994</th>\n",
       "      <th>995</th>\n",
       "      <th>996</th>\n",
       "      <th>997</th>\n",
       "      <th>998</th>\n",
       "      <th>999</th>\n",
       "    </tr>\n",
       "  </thead>\n",
       "  <tbody>\n",
       "    <tr>\n",
       "      <th>0</th>\n",
       "      <td>-2.722822</td>\n",
       "      <td>-0.143967</td>\n",
       "      <td>1.465373</td>\n",
       "      <td>2.922359</td>\n",
       "      <td>-3.329331</td>\n",
       "      <td>9.497633</td>\n",
       "      <td>3.807874</td>\n",
       "      <td>-4.941909</td>\n",
       "      <td>-1.999213</td>\n",
       "      <td>-0.445904</td>\n",
       "      <td>...</td>\n",
       "      <td>0.061653</td>\n",
       "      <td>0.235171</td>\n",
       "      <td>0.002323</td>\n",
       "      <td>0.005109</td>\n",
       "      <td>0.203689</td>\n",
       "      <td>-0.419790</td>\n",
       "      <td>0.360375</td>\n",
       "      <td>-0.013658</td>\n",
       "      <td>-0.502456</td>\n",
       "      <td>0.027472</td>\n",
       "    </tr>\n",
       "    <tr>\n",
       "      <th>1</th>\n",
       "      <td>-0.047295</td>\n",
       "      <td>3.986130</td>\n",
       "      <td>-1.297907</td>\n",
       "      <td>1.360974</td>\n",
       "      <td>-3.319875</td>\n",
       "      <td>-2.133367</td>\n",
       "      <td>2.775187</td>\n",
       "      <td>-0.529848</td>\n",
       "      <td>0.044781</td>\n",
       "      <td>-2.920641</td>\n",
       "      <td>...</td>\n",
       "      <td>-0.353586</td>\n",
       "      <td>0.890085</td>\n",
       "      <td>0.400513</td>\n",
       "      <td>0.336349</td>\n",
       "      <td>-0.465252</td>\n",
       "      <td>0.052148</td>\n",
       "      <td>0.023827</td>\n",
       "      <td>0.844940</td>\n",
       "      <td>-0.288434</td>\n",
       "      <td>-0.746539</td>\n",
       "    </tr>\n",
       "    <tr>\n",
       "      <th>2</th>\n",
       "      <td>-0.255717</td>\n",
       "      <td>-0.561306</td>\n",
       "      <td>0.665017</td>\n",
       "      <td>-1.410250</td>\n",
       "      <td>1.008827</td>\n",
       "      <td>0.900971</td>\n",
       "      <td>1.927586</td>\n",
       "      <td>-1.547472</td>\n",
       "      <td>-0.261180</td>\n",
       "      <td>-0.583696</td>\n",
       "      <td>...</td>\n",
       "      <td>0.756371</td>\n",
       "      <td>1.228188</td>\n",
       "      <td>0.880052</td>\n",
       "      <td>-2.171151</td>\n",
       "      <td>-0.939194</td>\n",
       "      <td>-1.156686</td>\n",
       "      <td>-0.936798</td>\n",
       "      <td>0.364354</td>\n",
       "      <td>-1.643986</td>\n",
       "      <td>-0.445641</td>\n",
       "    </tr>\n",
       "    <tr>\n",
       "      <th>3</th>\n",
       "      <td>-0.208782</td>\n",
       "      <td>-1.251495</td>\n",
       "      <td>2.886891</td>\n",
       "      <td>-2.518949</td>\n",
       "      <td>-1.525051</td>\n",
       "      <td>-0.719381</td>\n",
       "      <td>0.912847</td>\n",
       "      <td>-1.859721</td>\n",
       "      <td>-1.013575</td>\n",
       "      <td>-1.805792</td>\n",
       "      <td>...</td>\n",
       "      <td>-0.091333</td>\n",
       "      <td>-0.500582</td>\n",
       "      <td>0.294633</td>\n",
       "      <td>0.099416</td>\n",
       "      <td>-0.394393</td>\n",
       "      <td>-0.155131</td>\n",
       "      <td>-0.042862</td>\n",
       "      <td>0.423300</td>\n",
       "      <td>0.048950</td>\n",
       "      <td>0.449728</td>\n",
       "    </tr>\n",
       "    <tr>\n",
       "      <th>4</th>\n",
       "      <td>-3.319967</td>\n",
       "      <td>-2.763397</td>\n",
       "      <td>0.184637</td>\n",
       "      <td>-0.219865</td>\n",
       "      <td>0.924202</td>\n",
       "      <td>-2.354977</td>\n",
       "      <td>-1.116149</td>\n",
       "      <td>-0.658522</td>\n",
       "      <td>4.266022</td>\n",
       "      <td>0.025824</td>\n",
       "      <td>...</td>\n",
       "      <td>0.471622</td>\n",
       "      <td>0.410652</td>\n",
       "      <td>-0.101796</td>\n",
       "      <td>0.543173</td>\n",
       "      <td>0.492086</td>\n",
       "      <td>-0.826946</td>\n",
       "      <td>0.013545</td>\n",
       "      <td>-0.501023</td>\n",
       "      <td>-0.774756</td>\n",
       "      <td>0.237926</td>\n",
       "    </tr>\n",
       "  </tbody>\n",
       "</table>\n",
       "<p>5 rows × 1000 columns</p>\n",
       "</div>"
      ],
      "text/plain": [
       "        0         1         2         3         4         5         6    \\\n",
       "0 -2.722822 -0.143967  1.465373  2.922359 -3.329331  9.497633  3.807874   \n",
       "1 -0.047295  3.986130 -1.297907  1.360974 -3.319875 -2.133367  2.775187   \n",
       "2 -0.255717 -0.561306  0.665017 -1.410250  1.008827  0.900971  1.927586   \n",
       "3 -0.208782 -1.251495  2.886891 -2.518949 -1.525051 -0.719381  0.912847   \n",
       "4 -3.319967 -2.763397  0.184637 -0.219865  0.924202 -2.354977 -1.116149   \n",
       "\n",
       "        7         8         9    ...       990       991       992       993  \\\n",
       "0 -4.941909 -1.999213 -0.445904  ...  0.061653  0.235171  0.002323  0.005109   \n",
       "1 -0.529848  0.044781 -2.920641  ... -0.353586  0.890085  0.400513  0.336349   \n",
       "2 -1.547472 -0.261180 -0.583696  ...  0.756371  1.228188  0.880052 -2.171151   \n",
       "3 -1.859721 -1.013575 -1.805792  ... -0.091333 -0.500582  0.294633  0.099416   \n",
       "4 -0.658522  4.266022  0.025824  ...  0.471622  0.410652 -0.101796  0.543173   \n",
       "\n",
       "        994       995       996       997       998       999  \n",
       "0  0.203689 -0.419790  0.360375 -0.013658 -0.502456  0.027472  \n",
       "1 -0.465252  0.052148  0.023827  0.844940 -0.288434 -0.746539  \n",
       "2 -0.939194 -1.156686 -0.936798  0.364354 -1.643986 -0.445641  \n",
       "3 -0.394393 -0.155131 -0.042862  0.423300  0.048950  0.449728  \n",
       "4  0.492086 -0.826946  0.013545 -0.501023 -0.774756  0.237926  \n",
       "\n",
       "[5 rows x 1000 columns]"
      ]
     },
     "execution_count": 59,
     "metadata": {},
     "output_type": "execute_result"
    }
   ],
   "source": [
    "x_train_loaded.head()"
   ]
  },
  {
   "cell_type": "markdown",
   "metadata": {},
   "source": []
  }
 ],
 "metadata": {
  "kernelspec": {
   "display_name": "Python 3",
   "language": "python",
   "name": "python3"
  },
  "language_info": {
   "codemirror_mode": {
    "name": "ipython",
    "version": 3
   },
   "file_extension": ".py",
   "mimetype": "text/x-python",
   "name": "python",
   "nbconvert_exporter": "python",
   "pygments_lexer": "ipython3",
   "version": "3.8.10"
  }
 },
 "nbformat": 4,
 "nbformat_minor": 2
}
