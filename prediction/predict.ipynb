{
 "cells": [
  {
   "cell_type": "code",
   "execution_count": null,
   "metadata": {},
   "outputs": [],
   "source": [
    "# Predict the model, get the model from mlflow registery and predict.\n",
    "\n",
    "import mlflow\n",
    "import dagshub\n",
    "import pandas as pd\n",
    "\n",
    "# Initialize the dagshub repo information.\n",
    "dagshub.init(repo_owner='pavipd495', repo_name='spam_or_ham_fsec', mlflow=True)\n",
    "\n",
    "\n",
    "# Model to pull.\n",
    "model_name = \"XGBost\"\n",
    "model_version = 1\n",
    "model = mlflow.pyfunc.load_model(model_uri=f\"models:/{model_name}/{model_version}\")\n",
    "\n",
    "\n",
    "# predict.\n",
    "test_data = pd.read_csv(\"spam_or_ham_fsec/data/source/test_data.csv\")\n",
    "model.predict(test_data)\n",
    "\n",
    "# The prediction will be in 0 and 1. Change it back to original values. 0 to 1 and 1 to -1.\n",
    "y_train.replace(1, 0, inplace=True)\n",
    "y_train.replace(-1, 1, inplace=True)\n"
   ]
  }
 ],
 "metadata": {
  "language_info": {
   "name": "python"
  }
 },
 "nbformat": 4,
 "nbformat_minor": 2
}
